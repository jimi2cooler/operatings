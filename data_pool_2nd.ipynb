{
 "cells": [
  {
   "cell_type": "code",
   "execution_count": 1,
   "metadata": {},
   "outputs": [],
   "source": [
    "import glob\n",
    "import functools\n",
    "import datetime as dt\n",
    "import pandas as pd\n",
    "import numpy as np\n",
    "# import h2o\n",
    "import matplotlib.pyplot as plt\n",
    "# import shap\n",
    "from pandas_profiling import ProfileReport\n",
    "from collections import defaultdict\n",
    "import seaborn as sns\n",
    "import os\n",
    "import random"
   ]
  },
  {
   "cell_type": "code",
   "execution_count": 2,
   "metadata": {
    "collapsed": true
   },
   "outputs": [
    {
     "name": "stdout",
     "output_type": "stream",
     "text": [
      "<class 'pandas.core.frame.DataFrame'>\n",
      "RangeIndex: 56410 entries, 0 to 56409\n",
      "Data columns (total 25 columns):\n",
      " #   Column      Non-Null Count  Dtype  \n",
      "---  ------      --------------  -----  \n",
      " 0   기준일자        56410 non-null  int64  \n",
      " 1   실행번호        56410 non-null  object \n",
      " 2   고객번호        56410 non-null  object \n",
      " 3   실행사유코드명     56410 non-null  object \n",
      " 4   상품대분류명      56410 non-null  object \n",
      " 5   상품중분류명      56410 non-null  object \n",
      " 6   상품소분류명      56410 non-null  object \n",
      " 7   상품명         56410 non-null  object \n",
      " 8   실행일자        56410 non-null  int64  \n",
      " 9   만기일         56410 non-null  int64  \n",
      " 10  여신잔액        56410 non-null  float64\n",
      " 11  순대출금액       56410 non-null  float64\n",
      " 12  여신기간        56410 non-null  int64  \n",
      " 13  원리금연체일수     113 non-null    float64\n",
      " 14  연체대상원금      129 non-null    float64\n",
      " 15  연체대상이자      129 non-null    float64\n",
      " 16  마감일자        30872 non-null  float64\n",
      " 17  해지일자        181 non-null    float64\n",
      " 18  해지사유        181 non-null    object \n",
      " 19  영업부서코드명     56410 non-null  object \n",
      " 20  고객구분명       56410 non-null  object \n",
      " 21  임차보증금자금용도명  7481 non-null   object \n",
      " 22  여신금액        56410 non-null  float64\n",
      " 23  이전실행번호      3022 non-null   object \n",
      " 24  마감사유        30855 non-null  object \n",
      "dtypes: float64(8), int64(4), object(13)\n",
      "memory usage: 10.8+ MB\n"
     ]
    }
   ],
   "source": [
    "dataprep_df_full = pd.read_csv(r'C:\\Users\\C07037\\Python_project\\data_Pool\\raw_data.csv', delimiter = '\\t', encoding='utf-8')\n",
    "dataprep_df_full.info()"
   ]
  },
  {
   "cell_type": "code",
   "execution_count": 3,
   "metadata": {},
   "outputs": [
    {
     "data": {
      "text/plain": [
       "array(['신차운용리스', '스탁론(국내)', '오토론신차대출', '임차보증금대출', '스마트스토어대출', '신차금융리스',\n",
       "       'PF대출', '오토론중고차대출', '오토재고금융대출', '신차할부금융', '중도금대출', '미트론',\n",
       "       '더존연계팩토링', '스탁론(해외)', '신차오토렌탈', '대부업체대출', '기업자금대출', '바이크운용리스',\n",
       "       '보통주', 'NPL대출', '오토자금대출', '주식담보대출', '부동산집합투자증권', '단기렌터카(보험대차)',\n",
       "       '생명연계대출', 'PEF출자금', '증권집합투자증권(혼합형)', '전문투자형사모투자신탁', '투자조합출자금',\n",
       "       'CB', '기타담보대출', 'BW', '우선주', '증권집합투자증권(주식형)', '기업자금대출(베트남FC)',\n",
       "       '전환우선주', 'ETF', '회사채', '상환전환우선주', '증권집합투자증권(채권형)'], dtype=object)"
      ]
     },
     "execution_count": 3,
     "metadata": {},
     "output_type": "execute_result"
    }
   ],
   "source": [
    "dataprep_df_full['상품명'].unique()"
   ]
  },
  {
   "cell_type": "code",
   "execution_count": null,
   "metadata": {},
   "outputs": [],
   "source": [
    "auto_group = ['신차운용리스', '오토론신차대출', '신차금융리스', '오토론중고차대출', '오토재고금융대출', '신차할부금융', '신차오토렌탈', '바이크운용리스', '오토자금대출', '단기렌터카(보험대차)' ]\n",
    "apt_lease = ['임차보증금대출']\n",
    "stock_loan = ['스탁론(해외)','스탁론(국내)' ]\n",
    "naver_sme = ['스마트스토어대출']\n",
    "data_etc = ['더존연계팩토링', '주식담보대출', '미트론', '기타담보대출', '생명연계대출', 'NPL대출', '대부업체대출']\n",
    "ib_etc = ['PF대출', '기업자금대출', '보통주', '부동산집합투자증권','PEF출자금', '증권집합투자증권(혼합형)', '전문투자형사모투자신탁', '투자조합출자금','CB', 'BW', '우선주', '증권집합투자증권(주식형)', '기업자금대출(베트남FC)', '전환우선주', 'ETF', '회사채', '상환전환우선주', '증권집합투자증권(채권형)' ]"
   ]
  },
  {
   "cell_type": "code",
   "execution_count": null,
   "metadata": {},
   "outputs": [],
   "source": [
    "profile = df.profile_report(\n",
    "    variables={\n",
    "        \"descriptions\": {\n",
    "            \"files\": \"Files in the filesystem\",\n",
    "            \"datec\": \"Creation date\",\n",
    "            \"datem\": \"Modification date\",\n",
    "        }\n",
    "    }\n",
    ")\n",
    "\n",
    "\n",
    "profile.to_file(r'../output/report.html')"
   ]
  },
  {
   "cell_type": "code",
   "execution_count": null,
   "metadata": {},
   "outputs": [],
   "source": []
  },
  {
   "cell_type": "code",
   "execution_count": null,
   "metadata": {},
   "outputs": [],
   "source": []
  }
 ],
 "metadata": {
  "kernelspec": {
   "display_name": "Python [conda env:tf_nlp]",
   "language": "python",
   "name": "conda-env-tf_nlp-py"
  },
  "language_info": {
   "codemirror_mode": {
    "name": "ipython",
    "version": 3
   },
   "file_extension": ".py",
   "mimetype": "text/x-python",
   "name": "python",
   "nbconvert_exporter": "python",
   "pygments_lexer": "ipython3",
   "version": "3.8.11"
  }
 },
 "nbformat": 4,
 "nbformat_minor": 4
}
